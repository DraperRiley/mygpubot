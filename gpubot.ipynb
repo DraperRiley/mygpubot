{
 "cells": [
  {
   "cell_type": "code",
   "execution_count": 19,
   "id": "d955a6ce-ecd9-4d44-9d1d-e757e2928db6",
   "metadata": {},
   "outputs": [],
   "source": [
    "from selenium import webdriver as wd\n",
    "from selenium.webdriver.common.keys import Keys\n",
    "import chromedriver_binary\n",
    "import time"
   ]
  },
  {
   "cell_type": "code",
   "execution_count": 20,
   "id": "dd934055-679d-4f4c-8265-4b5c7e08fcfa",
   "metadata": {},
   "outputs": [],
   "source": [
    "wd = wd.Chrome()\n",
    "wd.implicitly_wait(5)\n",
    "\n",
    "test_link = 'https://www.bestbuy.com/site/samsung-58-class-7-series-led-4k-uhd-smart-tizen-tv/6401726.p?skuId=6401726'\n",
    "gpu_link = 'https://www.bestbuy.com/site/nvidia-geforce-rtx-3070-8gb-gddr6-pci-express-4-0-graphics-card-dark-platinum-and-black/6429442.p?skuId=6429442'"
   ]
  },
  {
   "cell_type": "code",
   "execution_count": 21,
   "id": "6f9f9b93-0713-4cb8-9b80-eac493096112",
   "metadata": {},
   "outputs": [],
   "source": [
    "wd.get(test_link)"
   ]
  },
  {
   "cell_type": "code",
   "execution_count": 22,
   "id": "857f280f-f584-4a8f-9607-305fe8c9ea44",
   "metadata": {},
   "outputs": [],
   "source": [
    "add_to_cart_button = wd.find_element_by_xpath('//*[@class=\"fulfillment-add-to-cart-button\"]/div/div/button')\n",
    "add_to_cart_button_state = add_to_cart_button.get_attribute(\"data-button-state\")"
   ]
  },
  {
   "cell_type": "code",
   "execution_count": 23,
   "id": "7f74fa01-6c48-4c58-82e2-12c3db7021e1",
   "metadata": {},
   "outputs": [
    {
     "name": "stdout",
     "output_type": "stream",
     "text": [
      "Clicked\n"
     ]
    }
   ],
   "source": [
    "while True:\n",
    "    if add_to_cart_button_state == 'SOLD_OUT':\n",
    "        print(add_to_cart_button_state)\n",
    "        wd.refresh()\n",
    "        add_to_cart_button = wd.find_element_by_xpath('//*[@class=\"fulfillment-add-to-cart-button\"]/div/div/button')\n",
    "        add_to_cart_button_state = add_to_cart_button.get_attribute(\"data-button-state\")\n",
    "        time.sleep(10)\n",
    "    else:\n",
    "        print('Clicked')\n",
    "        add_to_cart_button.click()\n",
    "        break\n",
    "        "
   ]
  },
  {
   "cell_type": "code",
   "execution_count": 24,
   "id": "c3bfff26-873a-4380-ae0f-dd30582ee7b8",
   "metadata": {},
   "outputs": [],
   "source": [
    "wd.execute_script('window.open('');')\n",
    "wd.switch_to.window(wd.window_handles[1])\n",
    "wd.get('https://youtu.be/uw_qPfgTxuI')\n",
    "play_button = wd.find_element_by_xpath('//*[@id=\"movie_player\"]/div[5]/button')\n",
    "play_button.click()"
   ]
  },
  {
   "cell_type": "code",
   "execution_count": null,
   "id": "ca0c5edc-f7b7-4e30-970b-14d59c73075f",
   "metadata": {},
   "outputs": [],
   "source": []
  },
  {
   "cell_type": "code",
   "execution_count": null,
   "id": "2e06e5a8-23d7-45f2-9e3a-bffb08738df6",
   "metadata": {},
   "outputs": [],
   "source": []
  },
  {
   "cell_type": "code",
   "execution_count": null,
   "id": "f68f65b6-00d0-4966-8280-3eb6585ae4c1",
   "metadata": {},
   "outputs": [],
   "source": []
  }
 ],
 "metadata": {
  "kernelspec": {
   "display_name": "Python 3 (ipykernel)",
   "language": "python",
   "name": "python3"
  },
  "language_info": {
   "codemirror_mode": {
    "name": "ipython",
    "version": 3
   },
   "file_extension": ".py",
   "mimetype": "text/x-python",
   "name": "python",
   "nbconvert_exporter": "python",
   "pygments_lexer": "ipython3",
   "version": "3.8.12"
  }
 },
 "nbformat": 4,
 "nbformat_minor": 5
}
